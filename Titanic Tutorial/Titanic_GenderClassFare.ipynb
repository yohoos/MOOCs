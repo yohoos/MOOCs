{
 "cells": [
  {
   "cell_type": "code",
   "execution_count": 1,
   "metadata": {
    "collapsed": true
   },
   "outputs": [],
   "source": [
    "import csv as csv\n",
    "import numpy as np\n",
    "\n",
    "csv_file_object = csv.reader(open('train.csv', 'rb'))       # Load in the csv file\n",
    "header = csv_file_object.next()                             # Skip the fist line as it is a header\n",
    "data=[]                                                     # Create a variable to hold the data"
   ]
  },
  {
   "cell_type": "code",
   "execution_count": 2,
   "metadata": {
    "collapsed": true
   },
   "outputs": [],
   "source": [
    "for row in csv_file_object:                 # Skip through each row in the csv file\n",
    "    data.append(row)                        # adding each row to the data variable\n",
    "data = np.array(data)                       # Then convert from a list to an array"
   ]
  },
  {
   "cell_type": "code",
   "execution_count": 3,
   "metadata": {
    "collapsed": false
   },
   "outputs": [],
   "source": [
    "# So we add a ceiling\n",
    "fare_ceiling = 40\n",
    "# then modify the data in the Fare column to = 39, if it is greater or equal to the ceiling\n",
    "data[ data[0::,9].astype(np.float) >= fare_ceiling, 9 ] = fare_ceiling - 1.0\n",
    "\n",
    "fare_bracket_size = 10\n",
    "number_of_price_brackets = fare_ceiling / fare_bracket_size\n",
    "\n",
    "# I know there were 1st, 2nd and 3rd classes on board\n",
    "number_of_classes = 3\n",
    "\n",
    "# But it's better practice to calculate this from the data directly\n",
    "# Take the length of an array of unique values in column index 2\n",
    "number_of_classes = len(np.unique(data[0::,2])) \n",
    "\n",
    "# Initialize the survival table with all zeros\n",
    "survival_table = np.zeros((2, number_of_classes, number_of_price_brackets))"
   ]
  },
  {
   "cell_type": "code",
   "execution_count": 4,
   "metadata": {
    "collapsed": false
   },
   "outputs": [
    {
     "name": "stderr",
     "output_type": "stream",
     "text": [
      "/home/yohoos/anaconda2/lib/python2.7/site-packages/numpy/core/_methods.py:59: RuntimeWarning: Mean of empty slice.\n",
      "  warnings.warn(\"Mean of empty slice.\", RuntimeWarning)\n",
      "/home/yohoos/anaconda2/lib/python2.7/site-packages/numpy/core/_methods.py:70: RuntimeWarning: invalid value encountered in double_scalars\n",
      "  ret = ret.dtype.type(ret / rcount)\n"
     ]
    }
   ],
   "source": [
    "for i in xrange(number_of_classes):       #loop through each class\n",
    "  for j in xrange(number_of_price_brackets):   #loop through each price bin\n",
    "\n",
    "    women_only_stats = data[ (data[0::,4] == \"female\")\n",
    "                       &(data[0::,2].astype(np.float) \n",
    "                             == i+1)                       \n",
    "                       &(data[0:,9].astype(np.float)  \n",
    "                            >= j*fare_bracket_size)               \n",
    "                       &(data[0:,9].astype(np.float)  \n",
    "                            < (j+1)*fare_bracket_size) \n",
    "                          , 1]                                                 \n",
    "\n",
    "\n",
    "    men_only_stats = data[ (data[0::,4] != \"female\")    \n",
    "                       &(data[0::,2].astype(np.float) \n",
    "                             == i+1)                                       \n",
    "                       &(data[0:,9].astype(np.float)   \n",
    "                            >= j*fare_bracket_size)                 \n",
    "                       &(data[0:,9].astype(np.float)  \n",
    "                            < (j+1)*fare_bracket_size)    \n",
    "                          , 1]\n",
    "    survival_table[0,i,j] = np.mean(women_only_stats.astype(np.float)) \n",
    "    survival_table[1,i,j] = np.mean(men_only_stats.astype(np.float))"
   ]
  },
  {
   "cell_type": "code",
   "execution_count": 5,
   "metadata": {
    "collapsed": false
   },
   "outputs": [
    {
     "name": "stdout",
     "output_type": "stream",
     "text": [
      "[[[ 0.          0.          0.83333333  0.97727273]\n",
      "  [ 0.          0.91428571  0.9         1.        ]\n",
      "  [ 0.59375     0.58139535  0.33333333  0.125     ]]\n",
      "\n",
      " [[ 0.          0.          0.4         0.38372093]\n",
      "  [ 0.          0.15873016  0.16        0.21428571]\n",
      "  [ 0.11153846  0.23684211  0.125       0.24      ]]]\n"
     ]
    }
   ],
   "source": [
    "survival_table[ survival_table != survival_table ] = 0\n",
    "print survival_table"
   ]
  },
  {
   "cell_type": "code",
   "execution_count": 6,
   "metadata": {
    "collapsed": false
   },
   "outputs": [
    {
     "name": "stdout",
     "output_type": "stream",
     "text": [
      "[[[ 0.  0.  1.  1.]\n",
      "  [ 0.  1.  1.  1.]\n",
      "  [ 1.  1.  0.  0.]]\n",
      "\n",
      " [[ 0.  0.  0.  0.]\n",
      "  [ 0.  0.  0.  0.]\n",
      "  [ 0.  0.  0.  0.]]]\n"
     ]
    }
   ],
   "source": [
    "survival_table[ survival_table < 0.5 ] = 0\n",
    "survival_table[ survival_table >= 0.5 ] = 1 \n",
    "print survival_table"
   ]
  },
  {
   "cell_type": "code",
   "execution_count": 7,
   "metadata": {
    "collapsed": true
   },
   "outputs": [],
   "source": [
    "test_file = open('test.csv', 'rb')\n",
    "test_file_object = csv.reader(test_file)\n",
    "header = test_file_object.next()\n",
    "predictions_file = open(\"genderclassfaremodel.csv\", \"wb\")\n",
    "p = csv.writer(predictions_file)\n",
    "p.writerow([\"PassengerId\", \"Survived\"])"
   ]
  },
  {
   "cell_type": "code",
   "execution_count": 8,
   "metadata": {
    "collapsed": false
   },
   "outputs": [
    {
     "name": "stderr",
     "output_type": "stream",
     "text": [
      "/home/yohoos/anaconda2/lib/python2.7/site-packages/ipykernel/__main__.py:25: DeprecationWarning: using a non-integer number instead of an integer will result in an error in the future\n",
      "/home/yohoos/anaconda2/lib/python2.7/site-packages/ipykernel/__main__.py:23: DeprecationWarning: using a non-integer number instead of an integer will result in an error in the future\n"
     ]
    }
   ],
   "source": [
    "for row in test_file_object:                 # We are going to loop\n",
    "                                              # through each passenger\n",
    "                                              # in the test set                     \n",
    "    for j in xrange(number_of_price_brackets):  # For each passenger we\n",
    "                                              # loop thro each price bin\n",
    "        try:                                      # Some passengers have no\n",
    "                                                  # Fare data so try to make\n",
    "          row[8] = float(row[8])                  # a float\n",
    "        except:                                   # If fails: no data, so \n",
    "          bin_fare = 3 - float(row[1])            # bin the fare according Pclass\n",
    "          break                                   # Break from the loop\n",
    "        if row[8] > fare_ceiling:              # If there is data see if\n",
    "                                                  # it is greater than fare\n",
    "                                                  # ceiling we set earlier\n",
    "          bin_fare = number_of_price_brackets-1   # If so set to highest bin\n",
    "          break                                   # And then break loop\n",
    "        if row[8] >= j * fare_bracket_size\\\n",
    "           and row[8] < \\\n",
    "           (j+1) * fare_bracket_size:             # If passed these tests \n",
    "                                                  # then loop through each bin \n",
    "          bin_fare = j                            # then assign index\n",
    "          break\n",
    "\n",
    "    if row[3] == 'female':                             #If the passenger is female\n",
    "        p.writerow([row[0], \"%d\" % \\\n",
    "                   int(survival_table[0, float(row[1])-1, bin_fare])])\n",
    "    else:                                          #else if male\n",
    "        p.writerow([row[0], \"%d\" % \\\n",
    "                   int(survival_table[1, float(row[1])-1, bin_fare])])\n",
    "     \n",
    "# Close out the files.\n",
    "test_file.close() \n",
    "predictions_file.close()"
   ]
  },
  {
   "cell_type": "code",
   "execution_count": 9,
   "metadata": {
    "collapsed": false
   },
   "outputs": [
    {
     "name": "stdout",
     "output_type": "stream",
     "text": [
      "[[[ 0.  0.  1.  1.]\n",
      "  [ 0.  1.  1.  1.]\n",
      "  [ 1.  1.  0.  0.]]\n",
      "\n",
      " [[ 0.  0.  0.  0.]\n",
      "  [ 0.  0.  0.  0.]\n",
      "  [ 0.  0.  0.  0.]]]\n"
     ]
    }
   ],
   "source": [
    "print survival_table"
   ]
  },
  {
   "cell_type": "code",
   "execution_count": null,
   "metadata": {
    "collapsed": true
   },
   "outputs": [],
   "source": []
  }
 ],
 "metadata": {
  "kernelspec": {
   "display_name": "Python 2",
   "language": "python",
   "name": "python2"
  },
  "language_info": {
   "codemirror_mode": {
    "name": "ipython",
    "version": 2
   },
   "file_extension": ".py",
   "mimetype": "text/x-python",
   "name": "python",
   "nbconvert_exporter": "python",
   "pygments_lexer": "ipython2",
   "version": "2.7.11"
  }
 },
 "nbformat": 4,
 "nbformat_minor": 0
}
